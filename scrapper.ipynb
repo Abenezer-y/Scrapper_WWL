{
 "cells": [
  {
   "cell_type": "code",
   "execution_count": 2,
   "metadata": {},
   "outputs": [],
   "source": [
    "import selenium\n",
    "\n",
    "from selenium import webdriver\n",
    "from selenium.webdriver.common.keys import Keys\n",
    "from selenium.webdriver.common.by import By\n",
    "from selenium.common.exceptions import NoSuchElementException\n",
    "import time\n",
    "import requests\n",
    "import pandas as pd\n",
    "import json\n",
    "from dataclasses import dataclass, asdict\n",
    "from datetime import datetime"
   ]
  },
  {
   "cell_type": "markdown",
   "metadata": {},
   "source": [
    "# Database Setup and CRUD Functions"
   ]
  },
  {
   "cell_type": "code",
   "execution_count": 3,
   "metadata": {},
   "outputs": [],
   "source": [
    "tdy = datetime.today()\n",
    "date = f'Nov {tdy.day}, 2022'\n",
    "\n",
    "wwl_db = {'cluster': \"WWL\", \n",
    "'uri': 'https://data.mongodb-api.com/app/data-qvnrx/endpoint/data/v1' ,\n",
    "'db': \"wwl\" ,\n",
    "'key': \"5d9sGO28viSiX1HnJlOLN6QMqPqxYz6NIKVUMvEU8wXvAS0CPHMMHs2jF0UHKSCF\"}\n",
    "\n",
    "\n",
    "\n",
    "## Updating database\n",
    "\n",
    "def submit_data(collection, docs, credential):\n",
    "    headers = {'Content-Type': 'application/json', 'Access-Control-Request-Headers': '*','api-key': credential['key']}\n",
    "    insert_url = f\"{credential['uri']}/action/insertMany\"\n",
    "    Payload = json.dumps({\"collection\": collection, \"database\": credential['db'], \"dataSource\": credential['cluster'], \"documents\": docs})\n",
    "    response = requests.request(\"POST\", insert_url, headers=headers, data=Payload)\n",
    "    return response\n",
    "\n",
    "def update_many(collection, condition, doc,  credential):\n",
    "    headers = {'Content-Type': 'application/json', 'Access-Control-Request-Headers': '*','api-key': credential['key']}\n",
    "    updateMany_url = f\"{credential['uri']}/action/updateMany\"\n",
    "    Payload = json.dumps({\"collection\": collection, \"database\": credential['db'], \"dataSource\": credential['cluster'], \"filter\": condition, \"update\":{\"$set\": doc}})\n",
    "    response = requests.request(\"POST\", updateMany_url, headers=headers, data=Payload)\n",
    "    return response\n",
    "\n",
    "def update_one(collection, condition, doc,  credential):\n",
    "    headers = {'Content-Type': 'application/json', 'Access-Control-Request-Headers': '*','api-key': credential['key']}\n",
    "    updateOne_url = f\"{credential['uri']}/action/updateOne\"\n",
    "    Payload = json.dumps({\"collection\": collection, \"database\": credential['db'], \"dataSource\": credential['cluster'], \"filter\": condition, \"update\":{\"$set\": doc}})\n",
    "    response = requests.request(\"POST\", updateOne_url, headers=headers, data=Payload)\n",
    "    return response\n",
    "\n",
    "def delete_many(collection, condition, credential):\n",
    "    headers = {'Content-Type': 'application/json', 'Access-Control-Request-Headers': '*','api-key': credential['key']}\n",
    "    deleteOne_url = f\"{credential['uri']}/action/deleteMany\"\n",
    "    Payload = json.dumps({\"collection\": collection, \"database\": credential['db'],\"dataSource\": credential['cluster'], \"filter\": condition})\n",
    "    response = requests.request(\"POST\", deleteOne_url, headers=headers, data=Payload)\n",
    "    return response\n",
    "\n",
    "## Get data from database\n",
    "\n",
    "def get_data_json(collection, credential):\n",
    "    headers = {'Content-Type': 'application/json', 'Access-Control-Request-Headers': '*','api-key': credential['key']}\n",
    "    findAll_url =  f\"{credential['uri']}/action/find\"\n",
    "    Payload = json.dumps({\"collection\": collection, \"database\":credential['db'], \"dataSource\": credential['cluster'], \"filter\": {}, \"limit\":5000})\n",
    "    response = requests.request(\"POST\", findAll_url, headers=headers, data=Payload)\n",
    "    response_json = response.json()['documents']\n",
    "    return response_json\n",
    "\n",
    "def get_data_df(collection, credential):\n",
    "    headers = {'Content-Type': 'application/json', 'Access-Control-Request-Headers': '*','api-key': credential['key']}\n",
    "    findAll_url =  f\"{credential['uri']}/action/find\"\n",
    "    Payload = json.dumps({\"collection\": collection, \"database\":credential['db'], \"dataSource\": credential['cluster'], \"filter\": {}, \"limit\":5000})\n",
    "    response = requests.request(\"POST\", findAll_url, headers=headers, data=Payload)\n",
    "    response_json = response.json()['documents']\n",
    "    df = pd.read_json(json.dumps(response_json))\n",
    "    return df"
   ]
  },
  {
   "cell_type": "markdown",
   "metadata": {},
   "source": [
    "# Data Schema Defination "
   ]
  },
  {
   "cell_type": "code",
   "execution_count": 4,
   "metadata": {},
   "outputs": [],
   "source": [
    "@dataclass\n",
    "class Report:\n",
    "    date: str\n",
    "    access_point: str\n",
    "    validation_type: str\n",
    "    total: str\n"
   ]
  },
  {
   "cell_type": "code",
   "execution_count": 4,
   "metadata": {},
   "outputs": [],
   "source": [
    "import requests\n",
    "import pandas as pd\n",
    "import json\n",
    "\n",
    "wwl_db = {'cluster': \"WWL\", \n",
    "'uri': 'https://data.mongodb-api.com/app/data-qvnrx/endpoint/data/v1' ,\n",
    "'db': \"wwl\" ,\n",
    "'key': \"5d9sGO28viSiX1HnJlOLN6QMqPqxYz6NIKVUMvEU8wXvAS0CPHMMHs2jF0UHKSCF\"}\n",
    "\n",
    "\n",
    "def get_data_df(collection, credential):\n",
    "    headers = {'Content-Type': 'application/json', 'Access-Control-Request-Headers': '*','api-key': credential['key']}\n",
    "    findAll_url =  f\"{credential['uri']}/action/find\"\n",
    "    Payload = json.dumps({\"collection\": collection, \"database\":credential['db'], \"dataSource\": credential['cluster'], \"filter\": {}, \"limit\":5000})\n",
    "    response = requests.request(\"POST\", findAll_url, headers=headers, data=Payload)\n",
    "    response_json = response.json()['documents']\n",
    "    df = pd.read_json(json.dumps(response_json))\n",
    "    df['date'] = df['date'].astype('str')\n",
    "    df['date'] = [_.split(' ')[0] for _ in df['date'].values]\n",
    "    return df\n",
    "\n",
    "# get_data_df(collection='wwl_tickets', credential=wwl_db)"
   ]
  },
  {
   "cell_type": "markdown",
   "metadata": {},
   "source": [
    "# Starting Browser & Loading page"
   ]
  },
  {
   "cell_type": "code",
   "execution_count": 31,
   "metadata": {},
   "outputs": [
    {
     "name": "stderr",
     "output_type": "stream",
     "text": [
      "E:\\Users\\abega\\AppData\\Local\\Temp\\ipykernel_17144\\2586550305.py:1: DeprecationWarning: executable_path has been deprecated, please pass in a Service object\n",
      "  driver = webdriver.Chrome('./chromedriver.exe')\n"
     ]
    }
   ],
   "source": []
  },
  {
   "cell_type": "code",
   "execution_count": 4,
   "metadata": {},
   "outputs": [],
   "source": [
    "main_window = driver.current_window_handle\n",
    "driver.find_element(By.TAG_NAME, 'body').send_keys(Keys.CONTROL + Keys.TAB)\n",
    "driver.switch_to.window(driver.window_handles[-1])"
   ]
  },
  {
   "cell_type": "markdown",
   "metadata": {},
   "source": [
    "## CSS Selectors"
   ]
  },
  {
   "cell_type": "code",
   "execution_count": 5,
   "metadata": {},
   "outputs": [],
   "source": [
    "\n",
    "\n",
    "\n",
    "reporting_tools_css = '#nova > div > div.min-h-screen.flex-none.pt-header.w-sidebar.bg-grad-sidebar.px-6.sidebar-hidden > h3.cursor-pointer.flex.items-center.font-normal.dim.text-white.mb-6.text-base.no-underline > span'\n",
    "report_select_css ='#report'\n",
    "option_css = '#report > option:nth-child(3)'\n",
    "launch_css = '#button'\n",
    "calnder_css = '#dateRange > div'\n",
    "\n",
    "i = 1\n",
    "\n",
    "col_1_css = f'#datatables63750325ca2081 > tbody > tr:nth-child(1) > td.sorting_1'\n",
    "col_2_css = f'#datatables637479b5b8e6b1 > tbody > tr:nth-child({i}) > td:nth-child(2)'\n",
    "col_3_css = f'#datatables637479b5b8e6b1 > tbody > tr:nth-child({i}) > td.text-right'\n",
    "# //*[@id=\"datatables63750e01093c71\"]\n",
    "# #datatables63750e01093c71\n",
    "# #datatables63750db6832a41\n"
   ]
  },
  {
   "cell_type": "markdown",
   "metadata": {},
   "source": [
    "# Helper Functions"
   ]
  },
  {
   "cell_type": "markdown",
   "metadata": {},
   "source": [
    "steps to collect data:\n",
    "1. Login -- Uisng Login Function\n",
    "2. Seleect report -- Using report selection Function\n",
    "3. Switch tabs and collect table data -- Using Table data collection function\n",
    "4. Process and submit scrapped dat to mongodb collection -- Using Data Entry Function\n",
    "\n",
    "\n",
    "Utility Functions:\n",
    "1. test_selector -- to test the existance of the css_selector for the web page element "
   ]
  },
  {
   "cell_type": "markdown",
   "metadata": {},
   "source": [
    "#### Utility function Defination"
   ]
  },
  {
   "cell_type": "code",
   "execution_count": 6,
   "metadata": {},
   "outputs": [],
   "source": []
  },
  {
   "cell_type": "markdown",
   "metadata": {},
   "source": [
    "#### Procedural Funntions Defination"
   ]
  },
  {
   "cell_type": "code",
   "execution_count": 36,
   "metadata": {},
   "outputs": [
    {
     "name": "stderr",
     "output_type": "stream",
     "text": [
      "E:\\Users\\abega\\AppData\\Local\\Temp\\ipykernel_3248\\2895124025.py:1: DeprecationWarning: executable_path has been deprecated, please pass in a Service object\n",
      "  driver = webdriver.Chrome('./chromedriver.exe')\n"
     ]
    }
   ],
   "source": [
    "driver = webdriver.Chrome('./chromedriver.exe')\n",
    "driver.get(\"https://eu.connectngo.com/login\")\n",
    "pw = 'LusailWW2022'\n",
    "email = 'icerink@lww.com'\n",
    "\n",
    "email_css = '#email'\n",
    "pw_css ='#password'\n",
    "sign_in_btn ='#app > main > div > div > div.d-flex.col-lg-4.align-items-center.bg-white.p-5 > div > div > form > div.d-flex.justify-content-between.align-items-center.m-0 > button'\n",
    "\n",
    "def test_selector(selector, driver=driver):\n",
    "    try:\n",
    "        ele = driver.find_element(By.CSS_SELECTOR, selector)\n",
    "        return ele\n",
    "    except NoSuchElementException:\n",
    "        return None\n",
    "\n",
    "def login(user_name_selector, user_name, pw_selector, pw, btn_selector):\n",
    "    un_ele = test_selector(user_name_selector)\n",
    "    pw_ele = test_selector(pw_selector)\n",
    "    btn_ele = test_selector(btn_selector)\n",
    "    if (un_ele is not None) and (pw_ele is not None) and (btn_ele is not None):\n",
    "        un_ele.clear()\n",
    "        un_ele.send_keys(user_name)\n",
    "        pw_ele.clear()\n",
    "        pw_ele.send_keys(pw)\n",
    "        btn_ele.click()\n",
    "        return 'Logged In'\n",
    "    else:\n",
    "        return 'Failed to log in'\n",
    "\n",
    "def select_report(i=3):\n",
    "    reporting_tools_css = '#nova > div > div.min-h-screen.flex-none.pt-header.w-sidebar.bg-grad-sidebar.px-6.sidebar-hidden > h3.cursor-pointer.flex.items-center.font-normal.dim.text-white.mb-6.text-base.no-underline > span'\n",
    "    option_css = f'#report > option:nth-child({i})'\n",
    "    launch_css = '#button'\n",
    "    reporting_tools = test_selector(reporting_tools_css)\n",
    "    if reporting_tools is None:\n",
    "        return None\n",
    "    else:\n",
    "        reporting_tools.click()\n",
    "        time.sleep(3)\n",
    "        report = test_selector(option_css)\n",
    "        if report is None:\n",
    "            return None\n",
    "        else:\n",
    "            report.click()\n",
    "            launch = test_selector(launch_css)\n",
    "            launch.click()\n",
    "\n",
    "def get_table_data():\n",
    "    date_css = '#dateRange > div > span'\n",
    "    try:\n",
    "        table = driver.find_element(By.TAG_NAME, 'table')\n",
    "        rows = table.find_elements(By.TAG_NAME, 'tr')\n",
    "    except NoSuchElementException:\n",
    "        return None\n",
    "    dt_rng = test_selector(date_css)\n",
    "    table = []\n",
    "    if dt_rng is None:\n",
    "        return None\n",
    "    else:\n",
    "        for i in range(1, len(rows)):\n",
    "            cols = rows[i].find_elements(By.TAG_NAME, 'td')\n",
    "            table_rows = [dt_rng.text]\n",
    "            for j in range(len(cols)):\n",
    "                table_rows.append(cols[j].text)\n",
    "            table.append(table_rows)\n",
    "        return table\n",
    "\n",
    "def scrape_aacess_point():\n",
    "\n",
    "    data = get_table_data()\n",
    "    if data is not None:\n",
    "        db_data = []\n",
    "        for rows in data:\n",
    "            db_data.append(asdict(Report(date=rows[0], access_point=rows[1] , validation_type=rows[2] , total=rows[3])))\n",
    "        delete_many(collection='wwl_tickets', condition={'date': db_data[0]['date']}, credential=wwl_db)\n",
    "        submit_data(collection='wwl_tickets', docs=db_data, credential=wwl_db)\n",
    "\n",
    "\n",
    "def scrapper_app():\n",
    "    if login(user_name=email , user_name_selector=email_css , pw=pw , pw_selector=pw_css , btn_selector=sign_in_btn) == 'Logged In':\n",
    "        select_report()\n",
    "        print('here')\n",
    "        time.sleep(3)\n",
    "        driver.switch_to.window(driver.window_handles[-1])\n",
    "        time.sleep(3)\n",
    "        print('here 1')\n",
    "        scrape_aacess_point()\n",
    "        time.sleep(3)\n",
    "        print('here')\n",
    "        scrape_aacess_point()\n",
    "        time.sleep(3)\n",
    "        print('here 1')\n",
    "        date_css = '#dateRange > div'\n",
    "        date = test_selector(date_css)\n",
    "        date.click()\n",
    "        yesterday = 'body > div.daterangepicker.ltr.show-ranges.opensright > div.ranges > ul > li:nth-child(2)'\n",
    "        yest = test_selector(yesterday)\n",
    "        yest.click()\n",
    "        submit_btn = '#main-container > form > div > button.btn.btn-primary'\n",
    "        sub_btn = test_selector(submit_btn)\n",
    "        sub_btn.click()\n",
    "        time.sleep(3)\n",
    "        scrape_aacess_point()\n",
    "        print('here 2')"
   ]
  },
  {
   "cell_type": "code",
   "execution_count": null,
   "metadata": {},
   "outputs": [],
   "source": [
    "yest_css = 'body > div.daterangepicker.ltr.show-ranges.opensright > div.ranges > ul > li.active'\n",
    "yest = test_selector(yest_css)\n",
    "yest.click()\n",
    "# time.sleep(3)\n",
    "# data_01 = get_table_data()\n",
    "# if data_01 is not None:\n",
    "    # print('here 02')\n",
    "    # delete_many(collection='wwl_tickets', condition={'date': data_01[0]['date']}, credential=wwl_db)\n",
    "#     return data + data_01\n",
    "# else:\n",
    "#     return data \n"
   ]
  },
  {
   "cell_type": "code",
   "execution_count": 37,
   "metadata": {},
   "outputs": [
    {
     "name": "stdout",
     "output_type": "stream",
     "text": [
      "here\n",
      "here 1\n",
      "here\n",
      "here 1\n",
      "here 2\n"
     ]
    }
   ],
   "source": [
    "scrapper_app()"
   ]
  },
  {
   "cell_type": "code",
   "execution_count": 14,
   "metadata": {},
   "outputs": [],
   "source": [
    "select_report(i=3)"
   ]
  },
  {
   "cell_type": "code",
   "execution_count": 15,
   "metadata": {},
   "outputs": [],
   "source": [
    "driver.switch_to.window(driver.window_handles[-1])"
   ]
  },
  {
   "cell_type": "code",
   "execution_count": 17,
   "metadata": {},
   "outputs": [],
   "source": [
    "\n"
   ]
  },
  {
   "cell_type": "code",
   "execution_count": 18,
   "metadata": {},
   "outputs": [],
   "source": []
  },
  {
   "cell_type": "code",
   "execution_count": 19,
   "metadata": {},
   "outputs": [],
   "source": []
  },
  {
   "cell_type": "code",
   "execution_count": 21,
   "metadata": {},
   "outputs": [],
   "source": [
    "\n",
    "def get_table_data():\n",
    "    date_css = '#dateRange > div > span'\n",
    "    try:\n",
    "        table = driver.find_element(By.TAG_NAME, 'table')\n",
    "        rows = table.find_elements(By.TAG_NAME, 'tr')\n",
    "    except NoSuchElementException:\n",
    "        return None\n",
    "    dt_rng = test_selector(date_css)\n",
    "    table = []\n",
    "    if dt_rng is None:\n",
    "        return None\n",
    "    else:\n",
    "        for i in range(1, len(rows)):\n",
    "            cols = rows[i].find_elements(By.TAG_NAME, 'td')\n",
    "            table_rows = [dt_rng.text]\n",
    "            for j in range(len(cols)):\n",
    "                table_rows.append(cols[j].text)\n",
    "            table.append(table_rows)\n",
    "        return table\n"
   ]
  },
  {
   "cell_type": "code",
   "execution_count": 22,
   "metadata": {},
   "outputs": [
    {
     "data": {
      "text/plain": [
       "[['11-21-2022 - 11-21-2022', 'Cocomelon', 'Ok', '92'],\n",
       " ['11-21-2022 - 11-21-2022',\n",
       "  'Cocomelon',\n",
       "  'No access through access point',\n",
       "  '10'],\n",
       " ['11-21-2022 - 11-21-2022', 'Exit', 'Wallet has no valid ticket', '716'],\n",
       " ['11-21-2022 - 11-21-2022', 'Exit', 'Event out of date', '6'],\n",
       " ['11-21-2022 - 11-21-2022', 'Exit', 'Ticket out of date', '39'],\n",
       " ['11-21-2022 - 11-21-2022', 'Exit', 'No access through access point', '31'],\n",
       " ['11-21-2022 - 11-21-2022',\n",
       "  'Ice Rink',\n",
       "  'No access through access point',\n",
       "  '1'],\n",
       " ['11-21-2022 - 11-21-2022', 'Main Entrance', 'Ok', '2,336'],\n",
       " ['11-21-2022 - 11-21-2022', 'Main Entrance', 'Uid not found', '8'],\n",
       " ['11-21-2022 - 11-21-2022', 'Main Entrance', 'Uid not valid', '4'],\n",
       " ['11-21-2022 - 11-21-2022',\n",
       "  'Main Entrance',\n",
       "  'Wallet has no valid ticket',\n",
       "  '20'],\n",
       " ['11-21-2022 - 11-21-2022', 'Main Entrance', 'Event out of date', '4'],\n",
       " ['11-21-2022 - 11-21-2022', 'Main Entrance', 'Ticket out of date', '3'],\n",
       " ['11-21-2022 - 11-21-2022', 'Main Entrance', 'Already in zone', '115'],\n",
       " ['11-21-2022 - 11-21-2022', '', '', '3,385']]"
      ]
     },
     "execution_count": 22,
     "metadata": {},
     "output_type": "execute_result"
    }
   ],
   "source": [
    "get_table_data()"
   ]
  },
  {
   "cell_type": "code",
   "execution_count": 16,
   "metadata": {},
   "outputs": [
    {
     "data": {
      "text/plain": [
       "<Response [200]>"
      ]
     },
     "execution_count": 16,
     "metadata": {},
     "output_type": "execute_result"
    }
   ],
   "source": [
    "delete_data(collection='wwl_tickets', condition={'date': '11-19-2022 - 11-19-2022'}, credential=wwl_db)"
   ]
  },
  {
   "cell_type": "code",
   "execution_count": 47,
   "metadata": {},
   "outputs": [],
   "source": [
    "scrapper_app()"
   ]
  },
  {
   "cell_type": "code",
   "execution_count": 24,
   "metadata": {},
   "outputs": [
    {
     "data": {
      "text/plain": [
       "<Response [201]>"
      ]
     },
     "execution_count": 24,
     "metadata": {},
     "output_type": "execute_result"
    }
   ],
   "source": [
    "submit_data(collection='wwl_tickets', docs=data, credential=wwl_db)"
   ]
  },
  {
   "cell_type": "code",
   "execution_count": 10,
   "metadata": {},
   "outputs": [],
   "source": [
    "driver.switch_to.window(driver.window_handles[-1])"
   ]
  },
  {
   "cell_type": "code",
   "execution_count": 82,
   "metadata": {},
   "outputs": [
    {
     "data": {
      "text/html": [
       "<div>\n",
       "<style scoped>\n",
       "    .dataframe tbody tr th:only-of-type {\n",
       "        vertical-align: middle;\n",
       "    }\n",
       "\n",
       "    .dataframe tbody tr th {\n",
       "        vertical-align: top;\n",
       "    }\n",
       "\n",
       "    .dataframe thead th {\n",
       "        text-align: right;\n",
       "    }\n",
       "</style>\n",
       "<table border=\"1\" class=\"dataframe\">\n",
       "  <thead>\n",
       "    <tr style=\"text-align: right;\">\n",
       "      <th></th>\n",
       "      <th>_id</th>\n",
       "      <th>date</th>\n",
       "      <th>access_point</th>\n",
       "      <th>validation_type</th>\n",
       "      <th>total</th>\n",
       "    </tr>\n",
       "  </thead>\n",
       "  <tbody>\n",
       "    <tr>\n",
       "      <th>0</th>\n",
       "      <td>6375117ecef5839887893a74</td>\n",
       "      <td>2022-11-02 11:00:00-20:22</td>\n",
       "      <td>Ice Rink</td>\n",
       "      <td>Uid not found</td>\n",
       "      <td>2</td>\n",
       "    </tr>\n",
       "    <tr>\n",
       "      <th>1</th>\n",
       "      <td>6375117ecef5839887893a75</td>\n",
       "      <td>2022-11-02 11:00:00-20:22</td>\n",
       "      <td>Ice Rink</td>\n",
       "      <td>Event out of date</td>\n",
       "      <td>13</td>\n",
       "    </tr>\n",
       "    <tr>\n",
       "      <th>2</th>\n",
       "      <td>6375117ecef5839887893a76</td>\n",
       "      <td>2022-11-02 11:00:00-20:22</td>\n",
       "      <td>Ice slide</td>\n",
       "      <td>Uid not found</td>\n",
       "      <td>2</td>\n",
       "    </tr>\n",
       "    <tr>\n",
       "      <th>3</th>\n",
       "      <td>6375117ecef5839887893a77</td>\n",
       "      <td>2022-11-02 11:00:00-20:22</td>\n",
       "      <td>Ice slide</td>\n",
       "      <td>Event out of date</td>\n",
       "      <td>13</td>\n",
       "    </tr>\n",
       "    <tr>\n",
       "      <th>4</th>\n",
       "      <td>6375117ecef5839887893a78</td>\n",
       "      <td>2022-11-02 11:00:00-20:22</td>\n",
       "      <td></td>\n",
       "      <td></td>\n",
       "      <td>30</td>\n",
       "    </tr>\n",
       "    <tr>\n",
       "      <th>...</th>\n",
       "      <td>...</td>\n",
       "      <td>...</td>\n",
       "      <td>...</td>\n",
       "      <td>...</td>\n",
       "      <td>...</td>\n",
       "    </tr>\n",
       "    <tr>\n",
       "      <th>85</th>\n",
       "      <td>637512998f59cc2335149f84</td>\n",
       "      <td>2022-11-16 11:00:00-20:22</td>\n",
       "      <td>Main Entrance</td>\n",
       "      <td>Uid not valid</td>\n",
       "      <td>14</td>\n",
       "    </tr>\n",
       "    <tr>\n",
       "      <th>86</th>\n",
       "      <td>637512998f59cc2335149f85</td>\n",
       "      <td>2022-11-16 11:00:00-20:22</td>\n",
       "      <td>Main Entrance</td>\n",
       "      <td>Wallet has no valid ticket</td>\n",
       "      <td>9</td>\n",
       "    </tr>\n",
       "    <tr>\n",
       "      <th>87</th>\n",
       "      <td>637512998f59cc2335149f86</td>\n",
       "      <td>2022-11-16 11:00:00-20:22</td>\n",
       "      <td>Main Entrance</td>\n",
       "      <td>Ticket out of date</td>\n",
       "      <td>5</td>\n",
       "    </tr>\n",
       "    <tr>\n",
       "      <th>88</th>\n",
       "      <td>637512998f59cc2335149f87</td>\n",
       "      <td>2022-11-16 11:00:00-20:22</td>\n",
       "      <td>Main Entrance</td>\n",
       "      <td>Already in zone</td>\n",
       "      <td>99</td>\n",
       "    </tr>\n",
       "    <tr>\n",
       "      <th>89</th>\n",
       "      <td>637512998f59cc2335149f88</td>\n",
       "      <td>2022-11-16 11:00:00-20:22</td>\n",
       "      <td></td>\n",
       "      <td></td>\n",
       "      <td>2,252</td>\n",
       "    </tr>\n",
       "  </tbody>\n",
       "</table>\n",
       "<p>90 rows × 5 columns</p>\n",
       "</div>"
      ],
      "text/plain": [
       "                         _id                      date   access_point  \\\n",
       "0   6375117ecef5839887893a74 2022-11-02 11:00:00-20:22       Ice Rink   \n",
       "1   6375117ecef5839887893a75 2022-11-02 11:00:00-20:22       Ice Rink   \n",
       "2   6375117ecef5839887893a76 2022-11-02 11:00:00-20:22      Ice slide   \n",
       "3   6375117ecef5839887893a77 2022-11-02 11:00:00-20:22      Ice slide   \n",
       "4   6375117ecef5839887893a78 2022-11-02 11:00:00-20:22                  \n",
       "..                       ...                       ...            ...   \n",
       "85  637512998f59cc2335149f84 2022-11-16 11:00:00-20:22  Main Entrance   \n",
       "86  637512998f59cc2335149f85 2022-11-16 11:00:00-20:22  Main Entrance   \n",
       "87  637512998f59cc2335149f86 2022-11-16 11:00:00-20:22  Main Entrance   \n",
       "88  637512998f59cc2335149f87 2022-11-16 11:00:00-20:22  Main Entrance   \n",
       "89  637512998f59cc2335149f88 2022-11-16 11:00:00-20:22                  \n",
       "\n",
       "               validation_type  total  \n",
       "0                Uid not found      2  \n",
       "1            Event out of date     13  \n",
       "2                Uid not found      2  \n",
       "3            Event out of date     13  \n",
       "4                                  30  \n",
       "..                         ...    ...  \n",
       "85               Uid not valid     14  \n",
       "86  Wallet has no valid ticket      9  \n",
       "87          Ticket out of date      5  \n",
       "88             Already in zone     99  \n",
       "89                              2,252  \n",
       "\n",
       "[90 rows x 5 columns]"
      ]
     },
     "execution_count": 82,
     "metadata": {},
     "output_type": "execute_result"
    }
   ],
   "source": [
    "get_data_df(collection='wwl_tickets', credential=wwl_db)"
   ]
  },
  {
   "cell_type": "code",
   "execution_count": 56,
   "metadata": {},
   "outputs": [
    {
     "data": {
      "text/plain": [
       "'Circus'"
      ]
     },
     "execution_count": 56,
     "metadata": {},
     "output_type": "execute_result"
    }
   ],
   "source": []
  },
  {
   "cell_type": "code",
   "execution_count": 11,
   "metadata": {},
   "outputs": [
    {
     "ename": "TypeError",
     "evalue": "'NoneType' object is not subscriptable",
     "output_type": "error",
     "traceback": [
      "\u001b[1;31m---------------------------------------------------------------------------\u001b[0m",
      "\u001b[1;31mTypeError\u001b[0m                                 Traceback (most recent call last)",
      "\u001b[1;32me:\\Users\\abega\\Documents\\Arete\\Projects\\Pro_18_WWL_Dashboard\\scrapper.ipynb Cell 27\u001b[0m in \u001b[0;36m<cell line: 2>\u001b[1;34m()\u001b[0m\n\u001b[0;32m      <a href='vscode-notebook-cell:/e%3A/Users/abega/Documents/Arete/Projects/Pro_18_WWL_Dashboard/scrapper.ipynb#X35sZmlsZQ%3D%3D?line=0'>1</a>\u001b[0m data \u001b[39m=\u001b[39m get_table_data()\n\u001b[1;32m----> <a href='vscode-notebook-cell:/e%3A/Users/abega/Documents/Arete/Projects/Pro_18_WWL_Dashboard/scrapper.ipynb#X35sZmlsZQ%3D%3D?line=1'>2</a>\u001b[0m data[:\u001b[39m2\u001b[39;49m]\n",
      "\u001b[1;31mTypeError\u001b[0m: 'NoneType' object is not subscriptable"
     ]
    }
   ],
   "source": [
    "data = get_table_data()\n",
    "data[:2]"
   ]
  },
  {
   "cell_type": "code",
   "execution_count": 81,
   "metadata": {},
   "outputs": [
    {
     "data": {
      "text/plain": [
       "<Response [201]>"
      ]
     },
     "execution_count": 81,
     "metadata": {},
     "output_type": "execute_result"
    }
   ],
   "source": [
    "submit_data(collection='wwl_tickets', docs=data, credential=wwl_db)"
   ]
  },
  {
   "cell_type": "code",
   "execution_count": null,
   "metadata": {},
   "outputs": [],
   "source": [
    "\n",
    "\n",
    "\n",
    "def get_table_data():\n",
    "    \n",
    "    col_1_css = f'#datatables637479b5b8e6b1 > tbody > tr:nth-child({i}) > td.sorting_1'\n",
    "    col_2_css = f'#datatables637479b5b8e6b1 > tbody > tr:nth-child({i}) > td:nth-child(2)'\n",
    "    col_3_css = f'#datatables637479b5b8e6b1 > tbody > tr:nth-child({i}) > td.text-right'\n",
    "    test_selector(col_1_css)\n",
    "    col_1_ele = driver.find_element(By.CSS_SELECTOR, col_1_css)\n",
    "    col_2_ele = driver.find_element(By.CSS_SELECTOR, col_2_css)\n",
    "    col_3_ele = driver.find_element(By.CSS_SELECTOR, col_3_css)"
   ]
  },
  {
   "cell_type": "code",
   "execution_count": 7,
   "metadata": {},
   "outputs": [],
   "source": [
    "# ele = driver.find_element(By.CSS_SELECTOR, option_css)\n",
    "btn_ele = driver.find_element(By.CSS_SELECTOR, calnder_css)"
   ]
  },
  {
   "cell_type": "code",
   "execution_count": 8,
   "metadata": {},
   "outputs": [
    {
     "data": {
      "text/plain": [
       "'Validation result by access point'"
      ]
     },
     "execution_count": 8,
     "metadata": {},
     "output_type": "execute_result"
    }
   ],
   "source": [
    "btn_ele.text"
   ]
  },
  {
   "cell_type": "code",
   "execution_count": null,
   "metadata": {},
   "outputs": [],
   "source": []
  },
  {
   "cell_type": "code",
   "execution_count": null,
   "metadata": {},
   "outputs": [],
   "source": []
  }
 ],
 "metadata": {
  "kernelspec": {
   "display_name": "Python 3.10.6 64-bit",
   "language": "python",
   "name": "python3"
  },
  "language_info": {
   "codemirror_mode": {
    "name": "ipython",
    "version": 3
   },
   "file_extension": ".py",
   "mimetype": "text/x-python",
   "name": "python",
   "nbconvert_exporter": "python",
   "pygments_lexer": "ipython3",
   "version": "3.10.6"
  },
  "orig_nbformat": 4,
  "vscode": {
   "interpreter": {
    "hash": "d876bf01d3261e3d19da608968666802ab63526d51a9f0859bd34c85d9139b09"
   }
  }
 },
 "nbformat": 4,
 "nbformat_minor": 2
}
