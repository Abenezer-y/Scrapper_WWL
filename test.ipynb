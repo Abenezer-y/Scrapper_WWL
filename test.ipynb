{
 "cells": [
  {
   "cell_type": "code",
   "execution_count": null,
   "metadata": {},
   "outputs": [],
   "source": []
  }
 ],
 "metadata": {
  "kernelspec": {
   "display_name": "Python 3.10.6 64-bit",
   "language": "python",
   "name": "python3"
  },
  "language_info": {
   "name": "python",
   "version": "3.10.6"
  },
  "orig_nbformat": 4,
  "vscode": {
   "interpreter": {
    "hash": "d876bf01d3261e3d19da608968666802ab63526d51a9f0859bd34c85d9139b09"
   }
  }
 },
 "nbformat": 4,
 "nbformat_minor": 2
}
